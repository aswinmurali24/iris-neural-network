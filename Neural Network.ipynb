{
 "cells": [
  {
   "cell_type": "code",
   "execution_count": 112,
   "id": "603b01b6",
   "metadata": {},
   "outputs": [],
   "source": [
    "import torch\n",
    "import torch.nn as nn\n",
    "import torch.nn.functional as F"
   ]
  },
  {
   "cell_type": "code",
   "execution_count": 113,
   "id": "d19f5fb7",
   "metadata": {},
   "outputs": [],
   "source": [
    "#create a model class that inherits nn.Module \n",
    "class Model(nn.Module):\n",
    "    #Input layer (4 features of flower)-->\n",
    "    #Hidden layer 1(number of neurons)--->\n",
    "    #H2(neurons)--->\n",
    "    #Output(3 classes of flowers)\n",
    "    def __init__(self, in_features = 4, h1 = 8, h2 = 9, out_features = 3):\n",
    "        super().__init__()  #instantiates our nn.module\n",
    "        self.fc1 = nn.Linear(in_features, h1)\n",
    "        self.fc2 = nn.Linear(h1, h2)\n",
    "        self.out = nn.Linear(h2, out_features)   #fc in variable names stands for fully connected \n",
    "        \n",
    "    def forward(self, x):\n",
    "    #relu - rectified linear unit is an activation function used in deep learning. The function will return the value as 0 if the value is negative or less than 0. If the value is positive then it will give the same value as output. \n",
    "        x = F.relu(self.fc1(x))\n",
    "        x = F.relu(self.fc2(x))\n",
    "        x = self.out(x)\n",
    "    \n",
    "        return x"
   ]
  },
  {
   "cell_type": "code",
   "execution_count": 114,
   "id": "d8d87b75",
   "metadata": {},
   "outputs": [],
   "source": [
    "#Pick a manual seed for randomisation\n",
    "torch.manual_seed(42)\n",
    "#Create an instance for the model\n",
    "model = Model()        #this is basically to activate our model and make them go forwards"
   ]
  },
  {
   "cell_type": "code",
   "execution_count": 115,
   "id": "e8a94ff8",
   "metadata": {},
   "outputs": [],
   "source": [
    "import numpy as np\n",
    "import pandas as pd\n",
    "import matplotlib.pyplot as plt\n",
    "%matplotlib inline "
   ]
  },
  {
   "cell_type": "code",
   "execution_count": 116,
   "id": "cc4c3dbe",
   "metadata": {},
   "outputs": [
    {
     "data": {
      "text/html": [
       "<div>\n",
       "<style scoped>\n",
       "    .dataframe tbody tr th:only-of-type {\n",
       "        vertical-align: middle;\n",
       "    }\n",
       "\n",
       "    .dataframe tbody tr th {\n",
       "        vertical-align: top;\n",
       "    }\n",
       "\n",
       "    .dataframe thead th {\n",
       "        text-align: right;\n",
       "    }\n",
       "</style>\n",
       "<table border=\"1\" class=\"dataframe\">\n",
       "  <thead>\n",
       "    <tr style=\"text-align: right;\">\n",
       "      <th></th>\n",
       "      <th>sepal_length</th>\n",
       "      <th>sepal_width</th>\n",
       "      <th>petal_length</th>\n",
       "      <th>petal_width</th>\n",
       "      <th>species</th>\n",
       "    </tr>\n",
       "  </thead>\n",
       "  <tbody>\n",
       "    <tr>\n",
       "      <th>0</th>\n",
       "      <td>5.1</td>\n",
       "      <td>3.5</td>\n",
       "      <td>1.4</td>\n",
       "      <td>0.2</td>\n",
       "      <td>setosa</td>\n",
       "    </tr>\n",
       "    <tr>\n",
       "      <th>1</th>\n",
       "      <td>4.9</td>\n",
       "      <td>3.0</td>\n",
       "      <td>1.4</td>\n",
       "      <td>0.2</td>\n",
       "      <td>setosa</td>\n",
       "    </tr>\n",
       "    <tr>\n",
       "      <th>2</th>\n",
       "      <td>4.7</td>\n",
       "      <td>3.2</td>\n",
       "      <td>1.3</td>\n",
       "      <td>0.2</td>\n",
       "      <td>setosa</td>\n",
       "    </tr>\n",
       "    <tr>\n",
       "      <th>3</th>\n",
       "      <td>4.6</td>\n",
       "      <td>3.1</td>\n",
       "      <td>1.5</td>\n",
       "      <td>0.2</td>\n",
       "      <td>setosa</td>\n",
       "    </tr>\n",
       "    <tr>\n",
       "      <th>4</th>\n",
       "      <td>5.0</td>\n",
       "      <td>3.6</td>\n",
       "      <td>1.4</td>\n",
       "      <td>0.2</td>\n",
       "      <td>setosa</td>\n",
       "    </tr>\n",
       "    <tr>\n",
       "      <th>...</th>\n",
       "      <td>...</td>\n",
       "      <td>...</td>\n",
       "      <td>...</td>\n",
       "      <td>...</td>\n",
       "      <td>...</td>\n",
       "    </tr>\n",
       "    <tr>\n",
       "      <th>145</th>\n",
       "      <td>6.7</td>\n",
       "      <td>3.0</td>\n",
       "      <td>5.2</td>\n",
       "      <td>2.3</td>\n",
       "      <td>virginica</td>\n",
       "    </tr>\n",
       "    <tr>\n",
       "      <th>146</th>\n",
       "      <td>6.3</td>\n",
       "      <td>2.5</td>\n",
       "      <td>5.0</td>\n",
       "      <td>1.9</td>\n",
       "      <td>virginica</td>\n",
       "    </tr>\n",
       "    <tr>\n",
       "      <th>147</th>\n",
       "      <td>6.5</td>\n",
       "      <td>3.0</td>\n",
       "      <td>5.2</td>\n",
       "      <td>2.0</td>\n",
       "      <td>virginica</td>\n",
       "    </tr>\n",
       "    <tr>\n",
       "      <th>148</th>\n",
       "      <td>6.2</td>\n",
       "      <td>3.4</td>\n",
       "      <td>5.4</td>\n",
       "      <td>2.3</td>\n",
       "      <td>virginica</td>\n",
       "    </tr>\n",
       "    <tr>\n",
       "      <th>149</th>\n",
       "      <td>5.9</td>\n",
       "      <td>3.0</td>\n",
       "      <td>5.1</td>\n",
       "      <td>1.8</td>\n",
       "      <td>virginica</td>\n",
       "    </tr>\n",
       "  </tbody>\n",
       "</table>\n",
       "<p>150 rows × 5 columns</p>\n",
       "</div>"
      ],
      "text/plain": [
       "     sepal_length  sepal_width  petal_length  petal_width    species\n",
       "0             5.1          3.5           1.4          0.2     setosa\n",
       "1             4.9          3.0           1.4          0.2     setosa\n",
       "2             4.7          3.2           1.3          0.2     setosa\n",
       "3             4.6          3.1           1.5          0.2     setosa\n",
       "4             5.0          3.6           1.4          0.2     setosa\n",
       "..            ...          ...           ...          ...        ...\n",
       "145           6.7          3.0           5.2          2.3  virginica\n",
       "146           6.3          2.5           5.0          1.9  virginica\n",
       "147           6.5          3.0           5.2          2.0  virginica\n",
       "148           6.2          3.4           5.4          2.3  virginica\n",
       "149           5.9          3.0           5.1          1.8  virginica\n",
       "\n",
       "[150 rows x 5 columns]"
      ]
     },
     "execution_count": 116,
     "metadata": {},
     "output_type": "execute_result"
    }
   ],
   "source": [
    "url = \"https://gist.githubusercontent.com/curran/a08a1080b88344b0c8a7/raw/0e7a9b0a5d22642a06d3d5b9bcbad9890c8ee534/iris.csv\"\n",
    "my_df = pd.read_csv(url)\n",
    "my_df"
   ]
  },
  {
   "cell_type": "code",
   "execution_count": 117,
   "id": "2ab7a9b6",
   "metadata": {},
   "outputs": [
    {
     "data": {
      "text/html": [
       "<div>\n",
       "<style scoped>\n",
       "    .dataframe tbody tr th:only-of-type {\n",
       "        vertical-align: middle;\n",
       "    }\n",
       "\n",
       "    .dataframe tbody tr th {\n",
       "        vertical-align: top;\n",
       "    }\n",
       "\n",
       "    .dataframe thead th {\n",
       "        text-align: right;\n",
       "    }\n",
       "</style>\n",
       "<table border=\"1\" class=\"dataframe\">\n",
       "  <thead>\n",
       "    <tr style=\"text-align: right;\">\n",
       "      <th></th>\n",
       "      <th>sepal_length</th>\n",
       "      <th>sepal_width</th>\n",
       "      <th>petal_length</th>\n",
       "      <th>petal_width</th>\n",
       "      <th>species</th>\n",
       "    </tr>\n",
       "  </thead>\n",
       "  <tbody>\n",
       "    <tr>\n",
       "      <th>0</th>\n",
       "      <td>5.1</td>\n",
       "      <td>3.5</td>\n",
       "      <td>1.4</td>\n",
       "      <td>0.2</td>\n",
       "      <td>0.0</td>\n",
       "    </tr>\n",
       "    <tr>\n",
       "      <th>1</th>\n",
       "      <td>4.9</td>\n",
       "      <td>3.0</td>\n",
       "      <td>1.4</td>\n",
       "      <td>0.2</td>\n",
       "      <td>0.0</td>\n",
       "    </tr>\n",
       "    <tr>\n",
       "      <th>2</th>\n",
       "      <td>4.7</td>\n",
       "      <td>3.2</td>\n",
       "      <td>1.3</td>\n",
       "      <td>0.2</td>\n",
       "      <td>0.0</td>\n",
       "    </tr>\n",
       "    <tr>\n",
       "      <th>3</th>\n",
       "      <td>4.6</td>\n",
       "      <td>3.1</td>\n",
       "      <td>1.5</td>\n",
       "      <td>0.2</td>\n",
       "      <td>0.0</td>\n",
       "    </tr>\n",
       "    <tr>\n",
       "      <th>4</th>\n",
       "      <td>5.0</td>\n",
       "      <td>3.6</td>\n",
       "      <td>1.4</td>\n",
       "      <td>0.2</td>\n",
       "      <td>0.0</td>\n",
       "    </tr>\n",
       "    <tr>\n",
       "      <th>...</th>\n",
       "      <td>...</td>\n",
       "      <td>...</td>\n",
       "      <td>...</td>\n",
       "      <td>...</td>\n",
       "      <td>...</td>\n",
       "    </tr>\n",
       "    <tr>\n",
       "      <th>145</th>\n",
       "      <td>6.7</td>\n",
       "      <td>3.0</td>\n",
       "      <td>5.2</td>\n",
       "      <td>2.3</td>\n",
       "      <td>2.0</td>\n",
       "    </tr>\n",
       "    <tr>\n",
       "      <th>146</th>\n",
       "      <td>6.3</td>\n",
       "      <td>2.5</td>\n",
       "      <td>5.0</td>\n",
       "      <td>1.9</td>\n",
       "      <td>2.0</td>\n",
       "    </tr>\n",
       "    <tr>\n",
       "      <th>147</th>\n",
       "      <td>6.5</td>\n",
       "      <td>3.0</td>\n",
       "      <td>5.2</td>\n",
       "      <td>2.0</td>\n",
       "      <td>2.0</td>\n",
       "    </tr>\n",
       "    <tr>\n",
       "      <th>148</th>\n",
       "      <td>6.2</td>\n",
       "      <td>3.4</td>\n",
       "      <td>5.4</td>\n",
       "      <td>2.3</td>\n",
       "      <td>2.0</td>\n",
       "    </tr>\n",
       "    <tr>\n",
       "      <th>149</th>\n",
       "      <td>5.9</td>\n",
       "      <td>3.0</td>\n",
       "      <td>5.1</td>\n",
       "      <td>1.8</td>\n",
       "      <td>2.0</td>\n",
       "    </tr>\n",
       "  </tbody>\n",
       "</table>\n",
       "<p>150 rows × 5 columns</p>\n",
       "</div>"
      ],
      "text/plain": [
       "     sepal_length  sepal_width  petal_length  petal_width  species\n",
       "0             5.1          3.5           1.4          0.2      0.0\n",
       "1             4.9          3.0           1.4          0.2      0.0\n",
       "2             4.7          3.2           1.3          0.2      0.0\n",
       "3             4.6          3.1           1.5          0.2      0.0\n",
       "4             5.0          3.6           1.4          0.2      0.0\n",
       "..            ...          ...           ...          ...      ...\n",
       "145           6.7          3.0           5.2          2.3      2.0\n",
       "146           6.3          2.5           5.0          1.9      2.0\n",
       "147           6.5          3.0           5.2          2.0      2.0\n",
       "148           6.2          3.4           5.4          2.3      2.0\n",
       "149           5.9          3.0           5.1          1.8      2.0\n",
       "\n",
       "[150 rows x 5 columns]"
      ]
     },
     "execution_count": 117,
     "metadata": {},
     "output_type": "execute_result"
    }
   ],
   "source": [
    "#converting the species column from strings to int because ml works well with numbers \n",
    "my_df[\"species\"] = my_df[\"species\"].replace(\"setosa\", 0.0)\n",
    "my_df[\"species\"] = my_df[\"species\"].replace(\"versicolor\", 1.0)\n",
    "my_df[\"species\"] = my_df[\"species\"].replace(\"virginica\", 2.0)\n",
    "my_df\n"
   ]
  },
  {
   "cell_type": "code",
   "execution_count": 118,
   "id": "92d711e4",
   "metadata": {},
   "outputs": [],
   "source": [
    "#train, test and split dataset! set X and y\n",
    "X = my_df.drop(\"species\", axis =1)  #dropping species column \n",
    "y = my_df[\"species\"]\n"
   ]
  },
  {
   "cell_type": "code",
   "execution_count": 119,
   "id": "fb2d1782",
   "metadata": {
    "scrolled": true
   },
   "outputs": [],
   "source": [
    "#convert these to numpy arrays \n",
    "X = X.values\n",
    "y = y.values\n"
   ]
  },
  {
   "cell_type": "code",
   "execution_count": 120,
   "id": "6c08387b",
   "metadata": {},
   "outputs": [],
   "source": [
    "#Train test and split\n",
    "from sklearn.model_selection import train_test_split\n",
    "X_train, X_test, y_train, y_test = train_test_split(X, y, test_size = 0.2, random_state = 42)"
   ]
  },
  {
   "cell_type": "code",
   "execution_count": 121,
   "id": "acd39e9f",
   "metadata": {},
   "outputs": [],
   "source": [
    "#convert x labels to float tensors\n",
    "X_train = torch.FloatTensor(X_train)\n",
    "X_test = torch.FloatTensor(X_test)"
   ]
  },
  {
   "cell_type": "code",
   "execution_count": 122,
   "id": "76a9ca3d",
   "metadata": {},
   "outputs": [],
   "source": [
    "#convert y labels to long tensors\n",
    "y_train = torch.LongTensor(y_train)\n",
    "y_test = torch.LongTensor(y_test)"
   ]
  },
  {
   "cell_type": "code",
   "execution_count": 123,
   "id": "4a44529f",
   "metadata": {},
   "outputs": [],
   "source": [
    "#set the model criterion to measure the error, this tells how far off the predicitions are from our data \n",
    "criterion = nn.CrossEntropyLoss()\n",
    "\n",
    "#Choosing an optimizer and setting the learning rate(lr), lr is set because after a certain number of iterations if the error does not go down then the learning rate must be reduced \n",
    "#we will select Adam optimizer\n",
    "optimizer = torch.optim.Adam(model.parameters(), lr = 0.01)\n"
   ]
  },
  {
   "cell_type": "code",
   "execution_count": 124,
   "id": "315a8f3d",
   "metadata": {
    "scrolled": true
   },
   "outputs": [
    {
     "name": "stdout",
     "output_type": "stream",
     "text": [
      "epochs : 0, loss : 1.0846848487854004\n",
      "epochs : 10, loss : 0.9183797240257263\n",
      "epochs : 20, loss : 0.7622429132461548\n",
      "epochs : 30, loss : 0.627383291721344\n",
      "epochs : 40, loss : 0.4667472243309021\n",
      "epochs : 50, loss : 0.2877059578895569\n",
      "epochs : 60, loss : 0.16738910973072052\n",
      "epochs : 70, loss : 0.10598883032798767\n",
      "epochs : 80, loss : 0.08021349459886551\n",
      "epochs : 90, loss : 0.06947018206119537\n"
     ]
    }
   ],
   "source": [
    "#training the model\n",
    "#epochs = it basically is one complete run the neural network (1 full iteration)\n",
    "#we will create a list for losses to keep an account of it as we need to check if the losses will reduce by time, if it does not reduce then the nn is not trained properly\n",
    "epochs = 100\n",
    "losses = []\n",
    "for i in range(epochs):\n",
    "    #getting forward and prediction\n",
    "    y_pred = model.forward(X_train)  \n",
    "    \n",
    "    #measure the error/loss, this will be high at first\n",
    "    loss = criterion(y_pred, y_train) #predicted values vs y_train\n",
    "    \n",
    "    #keeping track of losses\n",
    "    losses.append(loss.detach().numpy())  #converting loss into numpy values\n",
    "    \n",
    "    #print every 10 epochs\n",
    "    if i%10 == 0:\n",
    "        print(f\"epochs : {i}, loss : {loss}\")\n",
    "        \n",
    "    #use backpropagation which is AI algorithm that trains the neural network by error correction\n",
    "    optimizer.zero_grad()\n",
    "    loss.backward()\n",
    "    optimizer.step()\n",
    "    "
   ]
  },
  {
   "cell_type": "code",
   "execution_count": 125,
   "id": "d4ed71df",
   "metadata": {},
   "outputs": [
    {
     "data": {
      "text/plain": [
       "Text(0.5, 0, 'epoch')"
      ]
     },
     "execution_count": 125,
     "metadata": {},
     "output_type": "execute_result"
    },
    {
     "data": {
      "image/png": "[encoded data removed]",
      "text/plain": [
       "<Figure size 640x480 with 1 Axes>"
      ]
     },
     "metadata": {},
     "output_type": "display_data"
    }
   ],
   "source": [
    "#visualising the result \n",
    "plt.plot(range(epochs), losses)\n",
    "plt.ylabel(\"loss/error\")\n",
    "plt.xlabel(\"epoch\")"
   ]
  },
  {
   "cell_type": "code",
   "execution_count": 126,
   "id": "ad745eff",
   "metadata": {},
   "outputs": [],
   "source": [
    "#evaluating the test model on test data (validating the model on test set)\n",
    "with torch.no_grad(): #turning off the back propagation \n",
    "    #X test are the features from the test data, y_eval will be the predictions for these\n",
    "    y_eval = model.forward(X_test)\n",
    "    #finding the loss by y_eval vs y_pred\n",
    "    loss = criterion(y_eval, y_test)"
   ]
  },
  {
   "cell_type": "code",
   "execution_count": 127,
   "id": "106d7359",
   "metadata": {},
   "outputs": [
    {
     "data": {
      "text/plain": [
       "tensor(0.0634)"
      ]
     },
     "execution_count": 127,
     "metadata": {},
     "output_type": "execute_result"
    }
   ],
   "source": [
    "loss"
   ]
  },
  {
   "cell_type": "code",
   "execution_count": 129,
   "id": "069f811e",
   "metadata": {},
   "outputs": [
    {
     "name": "stdout",
     "output_type": "stream",
     "text": [
      "1.) tensor([-1.4120,  6.3133,  2.6088]) \t 1 \t 1\n",
      "2.) tensor([ 8.4023,  2.4573, -7.5391]) \t 0 \t 0\n",
      "3.) tensor([-12.1991,   1.1829,  13.7443]) \t 2 \t 2\n",
      "4.) tensor([-1.6752,  5.9271,  2.8622]) \t 1 \t 1\n",
      "5.) tensor([-1.5887,  6.7559,  2.8371]) \t 1 \t 1\n",
      "6.) tensor([ 7.8451,  2.3289, -7.0010]) \t 0 \t 0\n",
      "7.) tensor([ 1.1273,  6.0707, -0.0493]) \t 1 \t 1\n",
      "8.) tensor([-5.2088,  4.4484,  6.5316]) \t 2 \t 2\n",
      "9.) tensor([-3.2614,  4.9128,  4.4788]) \t 1 \t 1\n",
      "10.) tensor([0.5683, 6.5565, 0.5445]) \t 1 \t 1\n",
      "11.) tensor([-4.3492,  4.7780,  5.6344]) \t 2 \t 2\n",
      "12.) tensor([ 7.3631,  2.0552, -6.5497]) \t 0 \t 0\n",
      "13.) tensor([ 8.1384,  2.3552, -7.2879]) \t 0 \t 0\n",
      "14.) tensor([ 7.4936,  2.1057, -6.6740]) \t 0 \t 0\n",
      "15.) tensor([ 7.8643,  2.2491, -7.0269]) \t 0 \t 0\n",
      "16.) tensor([-1.3322,  6.5325,  2.5448]) \t 1 \t 1\n",
      "17.) tensor([-8.2712,  2.4244,  9.6406]) \t 2 \t 2\n",
      "18.) tensor([0.3374, 6.4826, 0.7657]) \t 1 \t 1\n",
      "19.) tensor([-1.5909,  5.7677,  2.7565]) \t 1 \t 1\n",
      "20.) tensor([-8.1891,  2.2739,  9.5411]) \t 2 \t 2\n",
      "21.) tensor([ 7.2431,  2.0816, -6.4291]) \t 0 \t 0\n",
      "22.) tensor([-3.9169,  4.6616,  5.1603]) \t 2 \t 2\n",
      "23.) tensor([ 7.3462,  2.2806, -6.5133]) \t 0 \t 0\n",
      "24.) tensor([-7.8081,  2.5460,  9.1545]) \t 2 \t 2\n",
      "25.) tensor([-5.7146,  5.6767,  7.1671]) \t 2 \t 2\n",
      "26.) tensor([-6.1246,  3.7117,  7.4511]) \t 2 \t 2\n",
      "27.) tensor([-7.8021,  2.8851,  9.1732]) \t 2 \t 2\n",
      "28.) tensor([-8.0843,  2.8461,  9.4759]) \t 2 \t 2\n",
      "29.) tensor([ 7.2430,  2.0465, -6.4321]) \t 0 \t 0\n",
      "30.) tensor([ 7.1733,  2.1733, -6.3522]) \t 0 \t 0\n",
      "we got 30 correct\n"
     ]
    }
   ],
   "source": [
    "correct = 0\n",
    "with torch.no_grad():\n",
    "    for i, data in enumerate(X_test):\n",
    "        y_val = model.forward(data)\n",
    "        \n",
    "        \n",
    "        #will tell us what type of flower class our network thinks it is \n",
    "        print(f\"{i+1}.) {str(y_val)} \\t {y_test[i]} \\t {y_val.argmax().item()}\")\n",
    "        \n",
    "        #lets check how many correct results we are getting\n",
    "        if y_val.argmax().item() == y_test[i]:\n",
    "            correct += 1 \n",
    "    \n",
    "print(f\"we got {correct} correct\")"
   ]
  },
  {
   "cell_type": "code",
   "execution_count": 131,
   "id": "c382b1ac",
   "metadata": {},
   "outputs": [
    {
     "name": "stdout",
     "output_type": "stream",
     "text": [
      "tensor([ 2.4275,  4.5716, -1.4627])\n"
     ]
    }
   ],
   "source": [
    "#lets try to upload new data in our network and see how it works\n",
    "new_iris = torch.tensor([4.7, 2.0, 3.1, 0.2])\n",
    "with torch.no_grad():\n",
    "    print(model(new_iris))"
   ]
  },
  {
   "cell_type": "code",
   "execution_count": 132,
   "id": "ab5713ad",
   "metadata": {},
   "outputs": [
    {
     "name": "stdout",
     "output_type": "stream",
     "text": [
      "tensor([-5.7279,  3.5590,  7.0107])\n"
     ]
    }
   ],
   "source": [
    "#lets verify by uploading exisiting numbers\n",
    "newer_iris = torch.tensor([6.3, 2.5, 5.0, 1.9])\n",
    "with torch.no_grad():\n",
    "    print(model(newer_iris))"
   ]
  }
 ],
 "metadata": {
  "kernelspec": {
   "display_name": "Python 3 (ipykernel)",
   "language": "python",
   "name": "python3"
  },
  "language_info": {
   "codemirror_mode": {
    "name": "ipython",
    "version": 3
   },
   "file_extension": ".py",
   "mimetype": "text/x-python",
   "name": "python",
   "nbconvert_exporter": "python",
   "pygments_lexer": "ipython3",
   "version": "3.11.5"
  }
 },
 "nbformat": 4,
 "nbformat_minor": 5
}
